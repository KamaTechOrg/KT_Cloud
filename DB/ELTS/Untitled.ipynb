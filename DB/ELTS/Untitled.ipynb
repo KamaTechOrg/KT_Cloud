{
 "cells": [
  {
   "cell_type": "code",
   "execution_count": 40,
   "id": "d05cb473",
   "metadata": {},
   "outputs": [],
   "source": [
    "import os\n",
    "\n",
    "# Get the desktop path\n",
    "desktop_path = os.path.join(os.path.expanduser('~'), 'Desktop')\n",
    "db_cluster_identifier= \"cluster\"\n",
    "# Create the full directory path on the desktop\n",
    "cluster_directory = os.path.join(desktop_path, f'clusters/{db_cluster_identifier}')\n",
    "\n",
    "# Create the directory (and any necessary intermediate directories)\n",
    "os.makedirs(cluster_directory, exist_ok=True)"
   ]
  },
  {
   "cell_type": "code",
   "execution_count": null,
   "id": "76a40da7",
   "metadata": {},
   "outputs": [],
   "source": []
  }
 ],
 "metadata": {
  "kernelspec": {
   "display_name": "Python 3 (ipykernel)",
   "language": "python",
   "name": "python3"
  },
  "language_info": {
   "codemirror_mode": {
    "name": "ipython",
    "version": 3
   },
   "file_extension": ".py",
   "mimetype": "text/x-python",
   "name": "python",
   "nbconvert_exporter": "python",
   "pygments_lexer": "ipython3",
   "version": "3.11.3"
  }
 },
 "nbformat": 4,
 "nbformat_minor": 5
}
